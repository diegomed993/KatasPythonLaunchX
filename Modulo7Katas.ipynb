{
 "cells": [
  {
   "cell_type": "markdown",
   "metadata": {},
   "source": [
    "### Ejercicio 1: Uso de ciclos `while` en Python\n",
    "\n",
    "En Python, los ciclos `while` te permiten ejecutar código un número desconocido de veces. Los ciclos examinan una condición booleana y, siempre que la condición sea verdadera, se ejecutará el código dentro del ciclo. Esto es muy útil para situaciones como solicitar valores a un usuario.\n",
    "\n",
    "En este ejercicio, estás creando una aplicación que solicita a un usuario que ingrese una lista de planetas. En un ejercicio posterior, agregarás código que muestre la lista. Por ahora, crearás solo el código que solicita al usuario la lista de planetas.\n",
    "\n",
    "> **TIP**\n",
    "> Dedica unos minutos para tratar de encontrar una solución. Luego desplázate hacia abajo hasta la parte inferior para ver si has logrado compilar el programa de acuerdo con las especificaciones\n",
    "\n",
    "Comienza agregando dos variables, una para la entrada del usuario, con el nombre `new_planet`, y otra variable para la lista de planetas, denominada `planets`."
   ]
  },
  {
   "cell_type": "code",
   "execution_count": null,
   "metadata": {},
   "outputs": [],
   "source": [
    "#Nuevo_planeta = ''\n",
    "#planetas = []\n",
    "\n",
    "#while Nuevo_planeta.lower != \"listo\":\n",
    "    #if Nuevo_planeta:\n",
    "     #   planetas.append(Nuevo_planeta)\n",
    "    #Nuevo_planeta = input(\"Ingrese un nuevo planeta o escriba listo cuando haya terminado\")\n"
   ]
  },
  {
   "cell_type": "markdown",
   "metadata": {},
   "source": [
    "### Ejercicio: - Ciclo para una lista\n",
    "\n",
    "En el ejercicio anterior, creaste código para solicitar a los usuarios que introduzcan una lista de nombres de planetas. En este ejercicio, completarás la aplicación escribiendo código que muestre los nombres de esos planetas.\n",
    "\n",
    "### Mostrar la lista de los planetas\n",
    "\n",
    "La variable `planets` almacena los nombres de planeta que ha introducido un usuario. Ahora usarás un ciclo para mostrar esas entradas.\n",
    "\n",
    "Crea un ciclo `for` para iterar sobre la lista `planets`. Puedes usar como nombre de la variable `planet` para cada planeta. Dentro del ciclo `for`, recuerda utilizar `print` para mostrar cada `planet`."
   ]
  },
  {
   "cell_type": "code",
   "execution_count": 12,
   "metadata": {},
   "outputs": [
    {
     "name": "stdout",
     "output_type": "stream",
     "text": [
      "El dato numero 1 ingresado fue Jupiter\n",
      "El dato numero 2 ingresado fue Mercurio\n",
      "El dato numero 3 ingresado fue Venus\n"
     ]
    }
   ],
   "source": [
    "Nuevo_planeta = ''\n",
    "planetas = []\n",
    "\n",
    "while Nuevo_planeta.lower() != 'listo':\n",
    "    planetas.append(Nuevo_planeta)\n",
    "    Nuevo_planeta = input(\"Ingrese un nuevo planeta o escriba listo cuando haya terminado\")\n",
    "\n",
    "planetas2 = planetas[1:]\n",
    "n = 1\n",
    "for planeta in planetas2:\n",
    "    print(\"El dato numero \"+str(n) +\" ingresado fue \"+ planeta)\n",
    "    n=n+1"
   ]
  }
 ],
 "metadata": {
  "interpreter": {
   "hash": "918e945209d09dbc76c51d262cdce8fcf553994a23aad71033e71c3bd8b5dd4f"
  },
  "kernelspec": {
   "display_name": "Python 3.10.2 64-bit",
   "language": "python",
   "name": "python3"
  },
  "language_info": {
   "codemirror_mode": {
    "name": "ipython",
    "version": 3
   },
   "file_extension": ".py",
   "mimetype": "text/x-python",
   "name": "python",
   "nbconvert_exporter": "python",
   "pygments_lexer": "ipython3",
   "version": "3.10.2"
  },
  "orig_nbformat": 4
 },
 "nbformat": 4,
 "nbformat_minor": 2
}
