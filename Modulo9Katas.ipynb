{
 "cells": [
  {
   "cell_type": "markdown",
   "metadata": {},
   "source": [
    "### Ejercicio 1: Trabajar con argumentos en funciones\n",
    "\n",
    "Los argumentos requeridos en las funciones se utilizan cuando las funciones necesitan que esos argumentos funcionen correctamente. En este ejercicio, construirás un informe de combustible que requiere información de varias ubicaciones de combustible en todo el cohete.\n",
    "\n",
    "Comienza por crear una función que necesite tres lecturas de combustible y devuelva un informe:"
   ]
  },
  {
   "cell_type": "code",
   "execution_count": 17,
   "metadata": {},
   "outputs": [],
   "source": [
    "# Función para leer 3 tanques de combustible y muestre el promedio\n",
    "\n",
    "def tanques_combustibles(tanque1 , tanque2, tanque3):\n",
    "    suma = tanque1 + tanque2 + tanque3\n",
    "    promedio = suma/3\n",
    "    return f'''Tanques de conbustibles\n",
    "    El tanque 1 tiene = {tanque1}\n",
    "    El tanque 2 tiene = {tanque2}\n",
    "    El tanque 3 tiene {tanque3}\n",
    "    El promedio de los 3 tanques es {round(promedio)} \n",
    "    '''\n",
    "\n"
   ]
  },
  {
   "cell_type": "markdown",
   "metadata": {},
   "source": [
    "Ahora que hemos definido la función de informes, vamos a comprobarlo. Para esta misión, los tanques no están llenos:"
   ]
  },
  {
   "cell_type": "code",
   "execution_count": 18,
   "metadata": {},
   "outputs": [
    {
     "name": "stdout",
     "output_type": "stream",
     "text": [
      "Tanques de conbustibles\n",
      "    El tanque 1 tiene = 5\n",
      "    El tanque 2 tiene = 10\n",
      "    El tanque 3 tiene 5\n",
      "    El promedio de los 3 tanques es 7 \n",
      "    \n"
     ]
    }
   ],
   "source": [
    "# Llamamos a la función que genera el reporte print(funcion(tanque1, tanque2, tanque3))\n",
    "\n",
    "print(tanques_combustibles(5,10,5))"
   ]
  },
  {
   "cell_type": "markdown",
   "metadata": {},
   "source": [
    "En lugar de simplemente crear el informe, la función también está calculando el promedio. Mejora la legibilidad extrayendo el cálculo promedio de la función en una nueva función para que el promedio se pueda hacer de forma independiente:"
   ]
  },
  {
   "cell_type": "code",
   "execution_count": 19,
   "metadata": {},
   "outputs": [],
   "source": [
    "def promedio(tanques):\n",
    "    suma = sum(tanques)\n",
    "    promedio= suma/3\n",
    "    return promedio\n",
    "    "
   ]
  },
  {
   "cell_type": "markdown",
   "metadata": {},
   "source": [
    "Ahora actualiza la función de informes para llamando a la nueva función del promedio:\n"
   ]
  },
  {
   "cell_type": "code",
   "execution_count": 20,
   "metadata": {},
   "outputs": [
    {
     "name": "stdout",
     "output_type": "stream",
     "text": [
      "Tanques de conbustibles\n",
      "    El tanque 1 tiene = 5\n",
      "    El tanque 2 tiene = 10\n",
      "    El tanque 3 tiene 15\n",
      "    El promedio de los 3 tanques es 10 \n",
      "    \n"
     ]
    }
   ],
   "source": [
    "# Actualiza la función\n",
    "\n",
    "def tanques_combustibles(tanque1 , tanque2, tanque3):\n",
    "    return f'''Tanques de conbustibles\n",
    "    El tanque 1 tiene = {tanque1}\n",
    "    El tanque 2 tiene = {tanque2}\n",
    "    El tanque 3 tiene {tanque3}\n",
    "    El promedio de los 3 tanques es {round(promedio([tanque1,tanque2,tanque3]))} \n",
    "    '''\n",
    "\n",
    "print(tanques_combustibles(5,10,15))"
   ]
  },
  {
   "cell_type": "markdown",
   "metadata": {},
   "source": [
    "### Ejercicio 2 : Trabajar con argumentos de palabras clave en funciones\n",
    "En este ejercicio, construirás un informe de cohete que requiere varias piezas de información, como el tiempo hasta el destino, el combustible a la izquierda y el nombre del destino. Comienza por crear una función que creará un informe preciso de la misión:"
   ]
  },
  {
   "cell_type": "code",
   "execution_count": 22,
   "metadata": {},
   "outputs": [
    {
     "name": "stdout",
     "output_type": "stream",
     "text": [
      "\n",
      "    La hora de lanzamiento es: 25\n",
      "    El tiempo de vuelo es: 60\n",
      "    El destino del vuelo es: marte\n",
      "    El tanque externo esta a: 4000%\n",
      "    El tanque interno esta a: 3000%\n",
      "\n",
      "    \n"
     ]
    }
   ],
   "source": [
    "# Función con un informe preciso de la misión. Considera hora de prelanzamiento, tiempo de vuelo, destino, tanque externo y tanque interno\n",
    "\n",
    "def informe (hora,tiempo,destino,t_externo,t_interno):\n",
    "    return f\"\"\"\n",
    "    La hora de lanzamiento es: {hora}\n",
    "    El tiempo de vuelo es: {tiempo}\n",
    "    El destino del vuelo es: {destino}\n",
    "    El tanque externo esta a: {t_externo}%\n",
    "    El tanque interno esta a: {t_interno}%\n",
    "\n",
    "    \"\"\"\n",
    "print(informe(25,60,\"marte\",4000,3000))"
   ]
  },
  {
   "cell_type": "markdown",
   "metadata": {},
   "source": [
    "La función es problemática porque no se puede adaptar para minutos adicionales o tanques adicionales de combustible. Hazlo más flexible permitiendo cualquier número de pasos basados en el tiempo y cualquier número de tanques. En lugar de usar `*args` y `**kwargs`, aprovecha el hecho de que puedes usar cualquier nombre que desees. Asegurate que la función sea más legible mediante el uso de nombres de variables que están asociados con las entradas, como `*minutes` y `**fuel_reservoirs`:"
   ]
  },
  {
   "cell_type": "code",
   "execution_count": 24,
   "metadata": {},
   "outputs": [
    {
     "name": "stdout",
     "output_type": "stream",
     "text": [
      "\n",
      "    El destino del vuelo es: marte\n",
      "    El tiempo total de vuelo son 72 minutos\n",
      "    El total del combustible son 80000\n",
      "\n",
      "    \n"
     ]
    }
   ],
   "source": [
    "# Escribe tu nueva función de reporte considerando lo anterior\n",
    "def informe (destino, *tiempo, **combustible):\n",
    "    return f\"\"\"\n",
    "    El destino del vuelo es: {destino}\n",
    "    El tiempo total de vuelo son {sum(tiempo)} minutos\n",
    "    El total del combustible son {sum(combustible.values())}\n",
    "\n",
    "    \"\"\"\n",
    "print(informe(\"marte\",40,30,2,Interno=50000,externo=30000))"
   ]
  },
  {
   "cell_type": "markdown",
   "metadata": {},
   "source": [
    "Debido a que el combustible que queda en los tanques es específico de cada tanque, actualiza la función para usar el nombre de cada tanque en el informe:"
   ]
  },
  {
   "cell_type": "code",
   "execution_count": 30,
   "metadata": {},
   "outputs": [
    {
     "name": "stdout",
     "output_type": "stream",
     "text": [
      "\n",
      "    El destino del vuelo es: marte\n",
      "    El tiempo total de vuelo son 72 minutos\n",
      "    El total del combustible son 80000\n",
      "    El tanque -> Interno tiene 50000 litros de combustible \n",
      "    El tanque -> externo tiene 30000 litros de combustible \n",
      "    \n"
     ]
    }
   ],
   "source": [
    "# Escribe tu nueva función\n",
    "\n",
    "def informe (destino, *tiempo, **combustible):\n",
    "    reporte = f\"\"\"\n",
    "    El destino del vuelo es: {destino}\n",
    "    El tiempo total de vuelo son {sum(tiempo)} minutos\n",
    "    El total del combustible son {sum(combustible.values())}\n",
    "    \"\"\"\n",
    "    for tanque, cantidad in combustible.items():\n",
    "        reporte += f\"El tanque -> {tanque} tiene {cantidad} litros de combustible \\n    \"\n",
    "    return reporte\n",
    "\n",
    "    \n",
    "print(informe(\"marte\",40,30,2,Interno=50000,externo=30000))"
   ]
  }
 ],
 "metadata": {
  "interpreter": {
   "hash": "918e945209d09dbc76c51d262cdce8fcf553994a23aad71033e71c3bd8b5dd4f"
  },
  "kernelspec": {
   "display_name": "Python 3.10.2 64-bit",
   "language": "python",
   "name": "python3"
  },
  "language_info": {
   "codemirror_mode": {
    "name": "ipython",
    "version": 3
   },
   "file_extension": ".py",
   "mimetype": "text/x-python",
   "name": "python",
   "nbconvert_exporter": "python",
   "pygments_lexer": "ipython3",
   "version": "3.10.2"
  },
  "orig_nbformat": 4
 },
 "nbformat": 4,
 "nbformat_minor": 2
}
